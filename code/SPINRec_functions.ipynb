{
 "cells": [
  {
   "cell_type": "markdown",
   "id": "d35a793b-23d0-41f0-95d1-ee803bb53f8b",
   "metadata": {},
   "source": [
    "## This notebook includes the functions for the implimintation of the PI approach that are being used in all PI_metrics notebooks."
   ]
  },
  {
   "cell_type": "markdown",
   "id": "6657ead6-6946-4017-9f5e-0aaa8f8edafd",
   "metadata": {},
   "source": [
    "# Imports"
   ]
  },
  {
   "cell_type": "code",
   "execution_count": 20,
   "id": "48d3aa41-c2ec-43cf-94ec-a58916156f92",
   "metadata": {
    "execution": {
     "iopub.execute_input": "2024-04-30T06:01:18.790542Z",
     "iopub.status.busy": "2024-04-30T06:01:18.789194Z",
     "iopub.status.idle": "2024-04-30T06:01:18.798257Z",
     "shell.execute_reply": "2024-04-30T06:01:18.796883Z",
     "shell.execute_reply.started": "2024-04-30T06:01:18.790494Z"
    },
    "tags": []
   },
   "outputs": [],
   "source": [
    "import pandas as pd\n",
    "import numpy as np\n",
    "import os\n",
    "os.environ['KMP_DUPLICATE_LIB_OK'] = 'True'\n",
    "export_dir = os.getcwd()\n",
    "from pathlib import Path\n",
    "import pickle\n",
    "from collections import defaultdict\n",
    "import time\n",
    "import torch\n",
    "import torch.nn as nn\n",
    "import copy\n",
    "import torch.nn.functional as F\n",
    "import ipynb\n",
    "import importlib\n",
    "import random"
   ]
  },
  {
   "cell_type": "markdown",
   "id": "b4ca7b0f-d970-4fce-946f-81eaedfa15aa",
   "metadata": {
    "tags": []
   },
   "source": [
    "# Functions"
   ]
  },
  {
   "cell_type": "markdown",
   "id": "ea81c616-031a-427e-9450-59627adbc1f1",
   "metadata": {
    "tags": []
   },
   "source": [
    "## 1\n",
    "### Create the interpolation steps between the baseline and the target "
   ]
  },
  {
   "cell_type": "code",
   "execution_count": 13,
   "id": "a2df378b-f966-4c47-a72d-76fd7d77e344",
   "metadata": {
    "execution": {
     "iopub.execute_input": "2024-04-28T11:39:00.259514Z",
     "iopub.status.busy": "2024-04-28T11:39:00.259065Z",
     "iopub.status.idle": "2024-04-28T11:39:00.265465Z",
     "shell.execute_reply": "2024-04-28T11:39:00.264668Z",
     "shell.execute_reply.started": "2024-04-28T11:39:00.259491Z"
    },
    "tags": []
   },
   "outputs": [],
   "source": [
    "def get_interpolated_values(baseline, target, num_steps):\n",
    "    \"\"\"this function returns a tensor of all the vecrots interpolation steps\"\"\"\n",
    "    baseline = baseline.cpu()\n",
    "    target = target.cpu()\n",
    "\n",
    "    delta = target - baseline\n",
    "\n",
    "    # Make steps between 0 and 1 \n",
    "    scales = np.linspace(0, 1, num_steps + 1, dtype=np.float32)[:, np.newaxis]\n",
    "        \n",
    "    shape = (num_steps + 1,) + delta.shape\n",
    "    deltas = scales * np.broadcast_to(delta.detach().cpu().numpy(), shape)\n",
    "    interpolated_activations = baseline + deltas\n",
    "\n",
    "    return interpolated_activations  #.to(device).clone().detach().requires_grad_(True)"
   ]
  },
  {
   "cell_type": "markdown",
   "id": "fa8feba1-bce9-47f5-b424-a616239879dd",
   "metadata": {},
   "source": [
    "## 2\n",
    "### Gradient calculations with respect to the recommended item "
   ]
  },
  {
   "cell_type": "code",
   "execution_count": 14,
   "id": "cbb54c24-704b-4ba3-b77e-50b6ae3d7998",
   "metadata": {
    "execution": {
     "iopub.execute_input": "2024-04-28T11:39:00.300373Z",
     "iopub.status.busy": "2024-04-28T11:39:00.299339Z",
     "iopub.status.idle": "2024-04-28T11:39:00.309589Z",
     "shell.execute_reply": "2024-04-28T11:39:00.308358Z",
     "shell.execute_reply.started": "2024-04-28T11:39:00.300330Z"
    },
    "tags": []
   },
   "outputs": [],
   "source": [
    "def get_grads_wrt_to_user_tensor(model, user_tensor, all_items_tensor, item_id, recommender_name, device):\n",
    "    model.eval()\n",
    "    model.zero_grad()\n",
    "\n",
    "    for param in model.parameters():\n",
    "        param.requires_grad = True\n",
    "        \n",
    "    # Different implementation of the recommenders \n",
    "    if recommender_name == \"VAE\":\n",
    "        preds = model(user_tensor)[0]\n",
    "    else: # MLP or NCF\n",
    "        preds = model(user_tensor, all_items_tensor)\n",
    "    \n",
    "    one_hot = torch.zeros(preds.shape).to(device)\n",
    "    one_hot[item_id] = 1\n",
    "\n",
    "    score = torch.sum(one_hot * preds)\n",
    "    score.backward()\n",
    "    \n",
    "    with torch.no_grad():\n",
    "        vector_grad = user_tensor.grad.detach()\n",
    "    user_tensor.requires_grad = False\n",
    "    return vector_grad"
   ]
  },
  {
   "cell_type": "markdown",
   "id": "1489c39a-3fb1-4641-85da-a73f6ca6b1fb",
   "metadata": {},
   "source": [
    "## 3\n",
    "### Sampling methods"
   ]
  },
  {
   "cell_type": "markdown",
   "id": "aca691a7-0d36-4f99-8bcc-745c15bf4182",
   "metadata": {},
   "source": [
    "#### randomly sample a user vector from the training set and using it as the baseline"
   ]
  },
  {
   "cell_type": "code",
   "execution_count": 18,
   "id": "57cf7f2f-0678-4be0-a691-40c32bb3851d",
   "metadata": {
    "execution": {
     "iopub.execute_input": "2024-04-28T11:41:11.332487Z",
     "iopub.status.busy": "2024-04-28T11:41:11.332017Z",
     "iopub.status.idle": "2024-04-28T11:41:11.339550Z",
     "shell.execute_reply": "2024-04-28T11:41:11.338291Z",
     "shell.execute_reply.started": "2024-04-28T11:41:11.332448Z"
    },
    "tags": []
   },
   "outputs": [],
   "source": [
    "def create_baseline_random_user(train_array, device):\n",
    "    i = np.random.randint(0, train_array.shape[0]) # Randomly select index\n",
    "    base = train_array[i]  #This is the baseline!\n",
    "    base_tensor = torch.Tensor(base).to(device)\n",
    "    \n",
    "    return base_tensor"
   ]
  },
  {
   "cell_type": "markdown",
   "id": "c727579a-9e52-42c0-b891-ef494b130f3e",
   "metadata": {},
   "source": [
    "#### Sampling method - sample uniformly a number between zero to one for each item in the vector. Use this sampeled vector as the baseline"
   ]
  },
  {
   "cell_type": "code",
   "execution_count": null,
   "id": "d3ac4751-877f-4934-a217-dcf4cf90fd73",
   "metadata": {},
   "outputs": [],
   "source": [
    "def create_baseline_random_items(user_tensor):\n",
    "    baseline_tensor = torch.zeros_like(user_tensor)\n",
    "\n",
    "    for i in range(user_tensor.numel()):  # numel() gives the total number of elements in the tensor\n",
    "        random_sample = np.random.rand()\n",
    "        baseline_tensor[i] = random_sample\n",
    "        \n",
    "    return baseline_tensor"
   ]
  },
  {
   "cell_type": "markdown",
   "id": "7cb70e52-5a2d-456c-8ce3-fcb6946bde7e",
   "metadata": {},
   "source": [
    "#### Sampling method - sample a number and decide 0 or 1 according to the popularity of the item "
   ]
  },
  {
   "cell_type": "code",
   "execution_count": null,
   "id": "331c1623-78b0-42fe-a1ba-459d940c1c6e",
   "metadata": {},
   "outputs": [],
   "source": [
    "def create_baseline_by_pop(user_tensor, pop_array):\n",
    "    baseline_tensor = torch.zeros_like(user_tensor)\n",
    "\n",
    "    for i in range(user_tensor.numel()):  # numel() gives the total number of elements in the tensor\n",
    "        random_sample = np.random.rand()\n",
    "        baseline_tensor[i] = 1 if random_sample < pop_array[i] else 0\n",
    "        \n",
    "    return baseline_tensor"
   ]
  },
  {
   "cell_type": "markdown",
   "id": "7fa3a368-b664-44ba-b704-7c62fbcbd4a3",
   "metadata": {},
   "source": [
    "## 4\n",
    "### Find the explanation map"
   ]
  },
  {
   "cell_type": "code",
   "execution_count": 19,
   "id": "af655bec-cacd-466a-8f25-0049dcf0d68a",
   "metadata": {
    "execution": {
     "iopub.execute_input": "2024-04-28T11:42:08.000248Z",
     "iopub.status.busy": "2024-04-28T11:42:07.999784Z",
     "iopub.status.idle": "2024-04-28T11:42:08.013826Z",
     "shell.execute_reply": "2024-04-28T11:42:08.012609Z",
     "shell.execute_reply.started": "2024-04-28T11:42:08.000209Z"
    },
    "tags": []
   },
   "outputs": [],
   "source": [
    "def find_ip_mask(model, user_tensor, item_id, all_items_tensor, num_steps, method, device, recommender_name, train_array, pop_array):\n",
    "    if method == \"base\":\n",
    "        baseline = torch.zeros_like(user_tensor)\n",
    "    elif method == \"sample_random_user\":  \n",
    "        baseline = create_baseline_random_user(train_array, device)\n",
    "    elif method == \"sample_random_items\":\n",
    "        baseline = create_baseline_random_items(user_tensor)\n",
    "    elif method == \"sample_items_by_pop\": \n",
    "        baseline = create_baseline_by_pop(user_tensor, pop_array)\n",
    "    \n",
    "    \n",
    "    interpolations = get_interpolated_values(baseline, user_tensor, num_steps)\n",
    "    \n",
    "    gradients = []\n",
    "    count = -1 \n",
    "    for i in interpolations: \n",
    "        count += 1\n",
    "        if count != 0:\n",
    "            i = i.to(device).detach()\n",
    "            i.requires_grad = True\n",
    "            grad_tensor = get_grads_wrt_to_user_tensor(model=model, user_tensor=i, all_items_tensor=all_items_tensor, item_id=item_id, recommender_name=recommender_name, device=device)\n",
    "            gradients.append(grad_tensor)\n",
    "\n",
    "    stacked_gradients = torch.stack(gradients, dim=0)\n",
    "    ip_explanation = torch.mean(stacked_gradients, dim=0)\n",
    "   \n",
    "    x_masked = user_tensor*ip_explanation \n",
    "    \n",
    "    item_sim_dict = {}\n",
    "    for i,j in enumerate(x_masked):\n",
    "        if j:\n",
    "            item_sim_dict[i]=x_masked[i] \n",
    "        \n",
    "    return item_sim_dict"
   ]
  }
 ],
 "metadata": {
  "kernelspec": {
   "display_name": "Python 3 (ipykernel)",
   "language": "python",
   "name": "python3"
  },
  "language_info": {
   "codemirror_mode": {
    "name": "ipython",
    "version": 3
   },
   "file_extension": ".py",
   "mimetype": "text/x-python",
   "name": "python",
   "nbconvert_exporter": "python",
   "pygments_lexer": "ipython3",
   "version": "3.7.13"
  }
 },
 "nbformat": 4,
 "nbformat_minor": 5
}

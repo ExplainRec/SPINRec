{
 "cells": [
  {
   "cell_type": "markdown",
   "id": "668ea0b7-73a8-4764-8318-433d0f94f74d",
   "metadata": {},
   "source": [
    "# This notebook contains the metrics calculation for the PI_Base (In which the baseline is the null vector)"
   ]
  },
  {
   "cell_type": "markdown",
   "id": "df26b726-af5c-40da-b1f7-0a2798e2ccbf",
   "metadata": {
    "tags": []
   },
   "source": [
    "# Imports and initial settings"
   ]
  },
  {
   "cell_type": "code",
   "execution_count": null,
   "id": "af063889-a1b7-4f7c-bf9d-6fe7d6865f96",
   "metadata": {
    "tags": []
   },
   "outputs": [],
   "source": [
    "import pandas as pd\n",
    "import numpy as np\n",
    "import os\n",
    "os.environ['KMP_DUPLICATE_LIB_OK'] = 'True'\n",
    "export_dir = os.getcwd()\n",
    "from pathlib import Path\n",
    "import pickle\n",
    "from collections import defaultdict\n",
    "import time\n",
    "import torch\n",
    "import torch.nn as nn\n",
    "import copy\n",
    "import torch.nn.functional as F\n",
    "import optuna\n",
    "import logging\n",
    "import matplotlib.pyplot as plt\n",
    "import ipynb\n",
    "import importlib\n",
    "import random\n",
    "from torch.utils.data import Dataset\n",
    "from torch.utils.data import DataLoader"
   ]
  },
  {
   "cell_type": "code",
   "execution_count": null,
   "id": "33132c9c-2808-44b5-b272-2c523999fe2b",
   "metadata": {
    "tags": []
   },
   "outputs": [],
   "source": [
    "export_dir = Path(os.getcwd()).parent\n",
    "checkpoints_path = Path(export_dir, \"checkpoints\")\n",
    "device = torch.device(\"cuda\" if torch.cuda.is_available() else \"cpu\")"
   ]
  },
  {
   "cell_type": "code",
   "execution_count": null,
   "id": "ed7eb549-f84b-4029-b534-2748002cc882",
   "metadata": {
    "tags": []
   },
   "outputs": [],
   "source": [
    "output_type_dict = {\n",
    "    \"VAE\":\"multiple\",\n",
    "    \"MLP\":\"single\",\n",
    "    \"NCF\": \"single\"}\n",
    "\n",
    "num_users_dict = {\n",
    "    \"ML1M\":6037,\n",
    "    \"Yahoo\":13797, \n",
    "    \"Pinterest\":19155}\n",
    "\n",
    "num_items_dict = {\n",
    "    \"ML1M\":3381,\n",
    "    \"Yahoo\":4604, \n",
    "    \"Pinterest\":9362}\n",
    "\n",
    "\n",
    "recommender_path_dict = {\n",
    "    (\"ML1M\",\"VAE\"): Path(checkpoints_path, \"VAE_ML1M_0.0007_128_10.pt\"),\n",
    "    (\"ML1M\",\"MLP\"):Path(checkpoints_path, \"MLP1_ML1M_0.0076_256_7.pt\"),\n",
    "    (\"ML1M\",\"NCF\"):Path(checkpoints_path, \"NCF_ML1M_5e-05_64_16.pt\"),\n",
    "    \n",
    "    (\"Yahoo\",\"VAE\"): Path(checkpoints_path, \"VAE_Yahoo_0.0001_128_13.pt\"),\n",
    "    (\"Yahoo\",\"MLP\"):Path(checkpoints_path, \"MLP2_Yahoo_0.0083_128_1.pt\"),\n",
    "    (\"Yahoo\",\"NCF\"):Path(checkpoints_path, \"NCF_Yahoo_0.001_64_21_0.pt\"),\n",
    "    \n",
    "    (\"Pinterest\",\"VAE\"): Path(checkpoints_path, \"VAE_Pinterest_12_18_0.0001_256.pt\"),\n",
    "    (\"Pinterest\",\"MLP\"):Path(checkpoints_path, \"MLP_Pinterest_0.0062_512_21_0.pt\"),\n",
    "    (\"Pinterest\",\"NCF\"):Path(checkpoints_path, \"NCF2_Pinterest_9e-05_32_9_10.pt\"),}\n",
    "\n",
    "\n",
    "hidden_dim_dict = {\n",
    "    (\"ML1M\",\"VAE\"): None,\n",
    "    (\"ML1M\",\"MLP\"): 32,\n",
    "    (\"ML1M\",\"NCF\"): 8,\n",
    "\n",
    "    (\"Yahoo\",\"VAE\"): None,\n",
    "    (\"Yahoo\",\"MLP\"):32,\n",
    "    (\"Yahoo\",\"NCF\"):8,\n",
    "    \n",
    "    (\"Pinterest\",\"VAE\"): None,\n",
    "    (\"Pinterest\",\"MLP\"):512,\n",
    "    (\"Pinterest\",\"NCF\"): 64,\n",
    "}"
   ]
  },
  {
   "cell_type": "markdown",
   "id": "3e01ac2d-653d-486e-9a20-5804b1e79b3c",
   "metadata": {},
   "source": [
    "# Important to edit:"
   ]
  },
  {
   "cell_type": "code",
   "execution_count": null,
   "id": "6069496e-fdeb-4c91-adc6-50be1fe34931",
   "metadata": {
    "tags": []
   },
   "outputs": [],
   "source": [
    "data_names = [\"ML1M\"]\n",
    "#data_names = [\"ML1M\", \"Yahoo\", \"Pinterest\"]\n",
    "\n",
    "recommender_names = [\"MLP\"]\n",
    "# recommender_names = [\"MLP\", \"VAE\", \"NCF\"]\n",
    "\n",
    "expl_names_list = ['PI_base']"
   ]
  },
  {
   "cell_type": "code",
   "execution_count": null,
   "id": "5c71af70-25c6-40b9-85b2-2778bb7acffb",
   "metadata": {
    "tags": []
   },
   "outputs": [],
   "source": [
    "num_steps = 10 # For the interpolation steps in the PI precess - constant 10.\n",
    "method = \"base\"\n",
    "new_file_name = \"PI_check\""
   ]
  },
  {
   "cell_type": "markdown",
   "id": "33efc769-46e0-470b-9f39-41202b02b7c8",
   "metadata": {
    "tags": []
   },
   "source": [
    "# Import Functions form other notebooks"
   ]
  },
  {
   "cell_type": "code",
   "execution_count": null,
   "id": "b5e751d5-534a-44dd-95ab-23b3ea664447",
   "metadata": {
    "tags": []
   },
   "outputs": [],
   "source": [
    "from ipynb.fs.defs.recommenders_architecture import *\n",
    "importlib.reload(ipynb.fs.defs.recommenders_architecture)\n",
    "from ipynb.fs.defs.recommenders_architecture import *\n",
    "\n",
    "from ipynb.fs.defs.help_functions import *\n",
    "importlib.reload(ipynb.fs.defs.help_functions)\n",
    "from ipynb.fs.defs.help_functions import *\n",
    "\n",
    "from ipynb.fs.defs.SPINRec_functions import *\n",
    "importlib.reload(ipynb.fs.defs.SPINRec_functions)\n",
    "from ipynb.fs.defs.SPINRec_functions import *"
   ]
  },
  {
   "cell_type": "markdown",
   "id": "8d76850d-4eec-4270-bca9-1993453ca0f8",
   "metadata": {
    "tags": []
   },
   "source": [
    "# Evaluation help functions"
   ]
  },
  {
   "cell_type": "code",
   "execution_count": null,
   "id": "6000cfdb-6f63-4d6c-9d84-92b1a2d912f1",
   "metadata": {
    "tags": []
   },
   "outputs": [],
   "source": [
    "def single_user_expl(user_vector, user_tensor, item_id, item_tensor, num_items, recommender_model, all_items_tensor, user_id = None, mask_type = None):\n",
    "    user_hist_size = np.sum(user_vector)\n",
    "    \n",
    "    if mask_type == 'PI_base':\n",
    "        sim_items = find_ip_mask(model=recommender_model, user_tensor=user_tensor, item_id=item_id, all_items_tensor=all_items_tensor, num_steps=num_steps, method=method, device=device, recommender_name=recommender_name, train_array=train_array, pop_array=pop_array)   \n",
    "    else:\n",
    "        print (\"Wrong notebook!!\")\n",
    "        \n",
    "    POS_sim_items  = list(sorted(sim_items.items(), key=lambda item: item[1],reverse=True))[0:user_hist_size]\n",
    "    return POS_sim_items"
   ]
  },
  {
   "cell_type": "code",
   "execution_count": null,
   "id": "d5cd7de7-1d89-413f-bd29-9ddf21ce5cf4",
   "metadata": {
    "tags": []
   },
   "outputs": [],
   "source": [
    "def eval_one_expl_type(expl_name):\n",
    "    with open(new_file_name, \"a\") as file:\n",
    "        file.write(f' ============ Start explaining by {expl_name} ============\\n')\n",
    "        with open(Path(files_path,f'{recommender_name}_{expl_name}_expl_dict.pkl'), 'rb') as handle:\n",
    "            expl_dict = pickle.load(handle)\n",
    "        recommender.eval()\n",
    "        \n",
    "        users_DEL = []\n",
    "        users_INS = []\n",
    "        NDCG = []\n",
    "        POS_at_5 = []\n",
    "        POS_at_10 = []\n",
    "        POS_at_20 = []\n",
    "    \n",
    "        num_of_bins=10\n",
    "    \n",
    "        with torch.no_grad():\n",
    "            for i in range(test_array.shape[0]):\n",
    "                start_time = time.time()\n",
    "                user_vector = test_array[i]\n",
    "                user_tensor = torch.FloatTensor(user_vector).to(device)\n",
    "                user_id = int(test_data.index[i])\n",
    "    \n",
    "                item_id = int(get_user_recommended_item(user_tensor, recommender, **kw_dict).detach().cpu().numpy())\n",
    "                item_vector =  items_array[item_id]\n",
    "                item_tensor = torch.FloatTensor(item_vector).to(device)\n",
    "                user_vector[item_id] = 0\n",
    "                user_tensor[item_id] = 0\n",
    "    \n",
    "                user_expl = expl_dict[user_id]\n",
    "                res = single_user_metrics(user_vector, user_tensor, item_id, item_tensor, num_of_bins, recommender, user_expl, **kw_dict)\n",
    "            \n",
    "                users_DEL.append(np.mean(res[0]))\n",
    "                users_INS.append(np.mean(res[1]))\n",
    "                NDCG.append(np.mean(res[2]))\n",
    "                POS_at_5.append(np.mean(res[3]))\n",
    "                POS_at_10.append(np.mean(res[4]))\n",
    "                POS_at_20.append(np.mean(res[5]))\n",
    "                \n",
    "        file.write(f\"{np.mean(users_DEL)}, {np.mean(users_INS)}, {np.mean(NDCG)}, {np.mean(POS_at_5)}, {np.mean(POS_at_10)}, {np.mean(POS_at_20)} \\n\")\n",
    "        file.write(f\"\\n\")"
   ]
  },
  {
   "cell_type": "markdown",
   "id": "960e11af-1c1c-4f47-baa9-b23e7696ed04",
   "metadata": {},
   "source": [
    "# START HERE"
   ]
  },
  {
   "cell_type": "code",
   "execution_count": null,
   "id": "5b56d849-8a5a-4593-b332-7f615a9ff584",
   "metadata": {
    "tags": []
   },
   "outputs": [],
   "source": [
    "for data_name in data_names:\n",
    "    \n",
    "    DP_DIR = Path(\"processed_data\", data_name)\n",
    "    files_path = Path(export_dir, DP_DIR)\n",
    "\n",
    "    num_users = num_users_dict[data_name] \n",
    "    num_items = num_items_dict[data_name] \n",
    "    num_features = num_items_dict[data_name]\n",
    "        \n",
    "    with open(Path(files_path, f'pop_dict_{data_name}.pkl'), 'rb') as f:\n",
    "        pop_dict = pickle.load(f)\n",
    "    pop_array = np.zeros(len(pop_dict))\n",
    "    for key, value in pop_dict.items():\n",
    "        pop_array[key] = value\n",
    "\n",
    "    # Data \n",
    "    train_data = pd.read_csv(Path(files_path,f'train_data_{data_name}.csv'), index_col=0)\n",
    "    test_data = pd.read_csv(Path(files_path,f'test_data_{data_name}.csv'), index_col=0)\n",
    "    \n",
    "    train_array = train_data.to_numpy()\n",
    "    test_array = test_data.to_numpy()\n",
    "    items_array = np.eye(num_items)\n",
    "    all_items_tensor = torch.Tensor(items_array).to(device)\n",
    "\n",
    "    \n",
    "    for recommender_name in recommender_names:\n",
    "        output_type = output_type_dict[recommender_name]\n",
    "        hidden_dim = hidden_dim_dict[(data_name,recommender_name)]\n",
    "        \n",
    "        recommender_path = recommender_path_dict[(data_name,recommender_name)]\n",
    "\n",
    "        kw_dict = {'device':device,\n",
    "                  'num_items': num_items,\n",
    "                  'demographic':False,\n",
    "                  'num_features':num_features,\n",
    "                  'pop_array':pop_array,\n",
    "                  'all_items_tensor':all_items_tensor,\n",
    "                  'items_array':items_array,\n",
    "                  'output_type':output_type,\n",
    "                  'recommender_name':recommender_name}\n",
    "\n",
    "\n",
    "        recommender = load_recommender(data_name, hidden_dim, checkpoints_path, recommender_path, **kw_dict)\n",
    "\n",
    "        file_mode = 'a' if os.path.exists(new_file_name) else 'w'\n",
    "        with open(new_file_name, file_mode) as file:\n",
    "            file.write(f' ============ This stats are for {data_name} dataset ============\\n')\n",
    "            file.write(f' ============ & for the recommender {recommender_name} ============\\n')\n",
    "            \n",
    "        for expl_name in expl_names_list:\n",
    "            if expl_name == \"PI_base\":\n",
    "                ip_expl_dict = {}\n",
    "\n",
    "                for i in range(test_array.shape[0]):\n",
    "                #for i in range(3):\n",
    "                    if i%500 == 0:\n",
    "                        print(i)\n",
    "                    user_vector = test_array[i]\n",
    "                    user_tensor = torch.FloatTensor(user_vector).to(device)\n",
    "                    user_id = int(test_data.index[i])\n",
    "\n",
    "                    item_id = int(get_user_recommended_item(user_tensor, recommender, **kw_dict).detach().cpu().numpy())\n",
    "                    item_vector =  items_array[item_id]\n",
    "                    item_tensor = torch.FloatTensor(item_vector).to(device)\n",
    "\n",
    "                    user_vector[item_id] = 0\n",
    "                    user_tensor[item_id] = 0\n",
    "\n",
    "                    #This func calls find_ip_mask and in the mask the explainer is configurated\n",
    "                    ip_expl_dict[user_id] = single_user_expl(user_vector, user_tensor, item_id, item_tensor, num_items, recommender, all_items_tensor=kw_dict['all_items_tensor'], mask_type= 'PI_base')\n",
    "\n",
    "                with open(Path(files_path,f'{recommender_name}_PI_base_expl_dict.pkl'), 'wb') as handle:\n",
    "                    pickle.dump(ip_expl_dict, handle)\n",
    "                            \n",
    "            eval_one_expl_type(expl_name)\n",
    "            \n",
    "print(\"Done\")"
   ]
  }
 ],
 "metadata": {
  "kernelspec": {
   "display_name": "Python 3 (ipykernel)",
   "language": "python",
   "name": "python3"
  },
  "language_info": {
   "codemirror_mode": {
    "name": "ipython",
    "version": 3
   },
   "file_extension": ".py",
   "mimetype": "text/x-python",
   "name": "python",
   "nbconvert_exporter": "python",
   "pygments_lexer": "ipython3",
   "version": "3.7.13"
  }
 },
 "nbformat": 4,
 "nbformat_minor": 5
}
